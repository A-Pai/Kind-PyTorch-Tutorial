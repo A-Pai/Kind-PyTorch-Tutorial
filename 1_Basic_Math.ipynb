{
 "cells": [
  {
   "cell_type": "code",
   "execution_count": 1,
   "metadata": {
    "collapsed": true
   },
   "outputs": [],
   "source": [
    "# Basic Operations with numbers and matrices\n",
    "# code by GunhoChoi\n",
    "import torch"
   ]
  },
  {
   "cell_type": "code",
   "execution_count": 2,
   "metadata": {
    "collapsed": false
   },
   "outputs": [
    {
     "name": "stdout",
     "output_type": "stream",
     "text": [
      "\n",
      "  9\n",
      " 10\n",
      " 11\n",
      "[torch.FloatTensor of size 3]\n",
      "\n",
      "\n",
      "  9\n",
      " 10\n",
      " 11\n",
      "[torch.FloatTensor of size 3]\n",
      "\n",
      "\n",
      "-1\n",
      " 0\n",
      " 1\n",
      "[torch.FloatTensor of size 3]\n",
      "\n"
     ]
    }
   ],
   "source": [
    "# add & sub\n",
    "# torch.add(input, value=1, other, out=None)\n",
    "# out= input + (other ∗ value)\n",
    "\n",
    "x1 = torch.FloatTensor([1,2,3])\n",
    "x2 = torch.FloatTensor([2,2,2])\n",
    "x3 = torch.add(x1,4,x2)\n",
    "print(x3)\n",
    "print(x1+4*x2)\n",
    "print(x1-x2)"
   ]
  },
  {
   "cell_type": "code",
   "execution_count": 3,
   "metadata": {
    "collapsed": false,
    "scrolled": false
   },
   "outputs": [
    {
     "name": "stdout",
     "output_type": "stream",
     "text": [
      "\n",
      " 0\n",
      " 1\n",
      " 1\n",
      "[torch.IntTensor of size 3]\n",
      "\n",
      "\n",
      " 0\n",
      " 1\n",
      " 1\n",
      "[torch.IntTensor of size 3]\n",
      "\n",
      "\n",
      " 0.5000\n",
      " 1.0000\n",
      " 1.5000\n",
      "[torch.FloatTensor of size 3]\n",
      "\n",
      "\n",
      " 0.5000\n",
      " 1.0000\n",
      " 1.5000\n",
      "[torch.FloatTensor of size 3]\n",
      "\n",
      "\n",
      " 2\n",
      " 4\n",
      " 6\n",
      "[torch.FloatTensor of size 3]\n",
      "\n",
      "\n",
      " 2\n",
      " 4\n",
      " 6\n",
      "[torch.FloatTensor of size 3]\n",
      "\n"
     ]
    }
   ],
   "source": [
    "# division between int returns int\n",
    "\n",
    "x1 = torch.IntTensor([1,2,3])\n",
    "x2 = torch.IntTensor([2,2,2])\n",
    "x3 = torch.div(x1,x2)\n",
    "print(x3)\n",
    "print(x1/x2)\n",
    "\n",
    "# division between Tensor\n",
    "\n",
    "x1 = torch.Tensor([1,2,3])\n",
    "x2 = torch.Tensor([2,2,2])\n",
    "x3 = torch.div(x1,x2)\n",
    "print(x3)\n",
    "print(x1/x2)\n",
    "\n",
    "# multiplication\n",
    "\n",
    "x3 = torch.mul(x1,x2)\n",
    "print(x3)\n",
    "print(x1*x2)"
   ]
  },
  {
   "cell_type": "code",
   "execution_count": 4,
   "metadata": {
    "collapsed": false
   },
   "outputs": [
    {
     "name": "stdout",
     "output_type": "stream",
     "text": [
      "\n",
      " 1\n",
      " 4\n",
      " 9\n",
      "[torch.FloatTensor of size 3]\n",
      "\n",
      "\n",
      " 1\n",
      " 2\n",
      " 3\n",
      "[torch.FloatTensor of size 3]\n",
      "\n",
      "\n",
      "  2.7183\n",
      "  7.3891\n",
      " 20.0855\n",
      "[torch.FloatTensor of size 3]\n",
      "\n",
      "\n",
      " 0.0000\n",
      " 0.6931\n",
      " 1.0986\n",
      "[torch.FloatTensor of size 3]\n",
      "\n"
     ]
    }
   ],
   "source": [
    "# power (IntTensor doesn't implement stateless method pow)\n",
    "\n",
    "x3 = torch.pow(x1,2)\n",
    "print(x3)\n",
    "\n",
    "# square root\n",
    "\n",
    "x3 = torch.sqrt(x3)\n",
    "print(x3)\n",
    "\n",
    "# exponential\n",
    "\n",
    "x3 = torch.exp(x1)\n",
    "print(x3)\n",
    "\n",
    "# log\n",
    "\n",
    "x3 = torch.log(x1)\n",
    "print(x3)"
   ]
  },
  {
   "cell_type": "code",
   "execution_count": 5,
   "metadata": {
    "collapsed": false
   },
   "outputs": [
    {
     "name": "stdout",
     "output_type": "stream",
     "text": [
      "\n",
      " 0.7311\n",
      " 0.8808\n",
      " 0.9526\n",
      "[torch.FloatTensor of size 3]\n",
      "\n",
      "\n",
      " 0.7616\n",
      " 0.9640\n",
      " 0.9951\n",
      "[torch.FloatTensor of size 3]\n",
      "\n"
     ]
    }
   ],
   "source": [
    "# sigmoid\n",
    "\n",
    "x3 = torch.sigmoid(x1)\n",
    "print(x3)\n",
    "\n",
    "# tanh\n",
    "\n",
    "x3 = torch.tanh(x1)\n",
    "print(x3)"
   ]
  }
 ],
 "metadata": {
  "kernelspec": {
   "display_name": "Python 3",
   "language": "python",
   "name": "python3"
  },
  "language_info": {
   "codemirror_mode": {
    "name": "ipython",
    "version": 3
   },
   "file_extension": ".py",
   "mimetype": "text/x-python",
   "name": "python",
   "nbconvert_exporter": "python",
   "pygments_lexer": "ipython3",
   "version": "3.5.2"
  }
 },
 "nbformat": 4,
 "nbformat_minor": 1
}
