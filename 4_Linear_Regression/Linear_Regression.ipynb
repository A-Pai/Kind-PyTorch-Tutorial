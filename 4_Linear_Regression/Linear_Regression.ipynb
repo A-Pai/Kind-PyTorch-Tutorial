{
 "cells": [
  {
   "cell_type": "code",
   "execution_count": 1,
   "metadata": {
    "collapsed": false
   },
   "outputs": [
    {
     "name": "stdout",
     "output_type": "stream",
     "text": [
      "Variable containing:\n",
      " 0.0701  1.2448  0.5839\n",
      " 0.6669  0.7852  0.8049\n",
      " 0.2802 -0.0434 -0.5835\n",
      "-0.5254  0.3513 -0.0190\n",
      "-0.3072 -0.2078 -2.3390\n",
      "[torch.FloatTensor of size 5x3]\n",
      " Variable containing:\n",
      " 1  1\n",
      " 1  1\n",
      " 1  1\n",
      " 1  1\n",
      " 1  1\n",
      "[torch.FloatTensor of size 5x2]\n",
      "\n"
     ]
    }
   ],
   "source": [
    "# Linear Regression Example\n",
    "# code by GunhoChoi\n",
    "\n",
    "import torch\n",
    "import torch.nn as nn\n",
    "import torch.optim as optim\n",
    "from torch.autograd import Variable \n",
    "\n",
    "x  = Variable(torch.randn(5,3))\n",
    "y_ = Variable(torch.ones(5,2))\n",
    "\n",
    "print(x,y_)"
   ]
  },
  {
   "cell_type": "code",
   "execution_count": 2,
   "metadata": {
    "collapsed": false
   },
   "outputs": [
    {
     "name": "stdout",
     "output_type": "stream",
     "text": [
      "Parameter containing:\n",
      " 0.4146 -0.2145  0.3486\n",
      " 0.0494  0.4700  0.2097\n",
      "[torch.FloatTensor of size 2x3]\n",
      "\n",
      "Parameter containing:\n",
      " 0.4996\n",
      "-0.0944\n",
      "[torch.FloatTensor of size 2]\n",
      "\n",
      "Variable containing:\n",
      " 0.4652  0.6165\n",
      " 0.8883  0.4763\n",
      " 0.4217 -0.2233\n",
      " 0.1999  0.0408\n",
      "-0.3986 -0.6976\n",
      "[torch.FloatTensor of size 5x2]\n",
      "\n"
     ]
    }
   ],
   "source": [
    "# Build Linear layer and feed forward\n",
    "\n",
    "linear = nn.Linear(3,2)\n",
    "\n",
    "print(linear.weight)\n",
    "print(linear.bias)\n",
    "\n",
    "y = linear(x)\n",
    "print(y)"
   ]
  },
  {
   "cell_type": "code",
   "execution_count": 3,
   "metadata": {
    "collapsed": false
   },
   "outputs": [
    {
     "name": "stdout",
     "output_type": "stream",
     "text": [
      "Variable containing:\n",
      " 0.1152 -0.1438  0.6443\n",
      " 0.0613 -0.1639  0.8115\n",
      "[torch.FloatTensor of size 2x3]\n",
      "\n",
      "Variable containing:\n",
      "-0.6847\n",
      "-0.9575\n",
      "[torch.FloatTensor of size 2]\n",
      "\n",
      "Variable containing:\n",
      " 0.8949\n",
      "[torch.FloatTensor of size 1]\n",
      "\n",
      "<generator object Module.parameters at 0x7f90c8804fc0>\n"
     ]
    }
   ],
   "source": [
    "# Compute Loss and back prop.\n",
    "\n",
    "loss_func = nn.MSELoss()\n",
    "loss = loss_func(y,y_)\n",
    "loss.backward()\n",
    "\n",
    "print(linear.weight.grad)\n",
    "print(linear.bias.grad)\n",
    "print(loss)\n",
    "print(linear.parameters())"
   ]
  },
  {
   "cell_type": "code",
   "execution_count": 4,
   "metadata": {
    "collapsed": false
   },
   "outputs": [
    {
     "name": "stdout",
     "output_type": "stream",
     "text": [
      "Variable containing:\n",
      " 0.1152 -0.1438  0.6443\n",
      " 0.0613 -0.1639  0.8115\n",
      "[torch.FloatTensor of size 2x3]\n",
      "\n",
      "Variable containing:\n",
      "-0.6847\n",
      "-0.9575\n",
      "[torch.FloatTensor of size 2]\n",
      "\n",
      "Variable containing:\n",
      " 0.8931\n",
      "[torch.FloatTensor of size 1]\n",
      "\n"
     ]
    }
   ],
   "source": [
    "# Optimize and check weight bias and loss\n",
    "\n",
    "optimizer = optim.Adam(linear.parameters(),lr=0.0005)\n",
    "optimizer.step()\n",
    "y = linear(x)\n",
    "loss = loss_func(y,y_)\n",
    "\n",
    "print(linear.weight.grad)\n",
    "print(linear.bias.grad)\n",
    "print(loss)"
   ]
  },
  {
   "cell_type": "code",
   "execution_count": 5,
   "metadata": {
    "collapsed": false
   },
   "outputs": [
    {
     "name": "stdout",
     "output_type": "stream",
     "text": [
      "Variable containing:\n",
      " 0.8931\n",
      "[torch.FloatTensor of size 1]\n",
      "\n",
      "Variable containing:\n",
      " 0.6711\n",
      "[torch.FloatTensor of size 1]\n",
      "\n",
      "Variable containing:\n",
      " 0.4583\n",
      "[torch.FloatTensor of size 1]\n",
      "\n",
      "Variable containing:\n",
      " 0.2937\n",
      "[torch.FloatTensor of size 1]\n",
      "\n",
      "Variable containing:\n",
      " 0.1775\n",
      "[torch.FloatTensor of size 1]\n",
      "\n",
      "Variable containing:\n",
      " 0.1055\n",
      "[torch.FloatTensor of size 1]\n",
      "\n",
      "Variable containing:\n",
      "1.00000e-02 *\n",
      "  7.1685\n",
      "[torch.FloatTensor of size 1]\n",
      "\n",
      "Variable containing:\n",
      "1.00000e-02 *\n",
      "  6.9007\n",
      "[torch.FloatTensor of size 1]\n",
      "\n",
      "Variable containing:\n",
      "1.00000e-02 *\n",
      "  8.9507\n",
      "[torch.FloatTensor of size 1]\n",
      "\n",
      "Variable containing:\n",
      " 0.1258\n",
      "[torch.FloatTensor of size 1]\n",
      "\n"
     ]
    }
   ],
   "source": [
    "# loop for certain amount of epochs\n",
    "\n",
    "for i in range(1000):\n",
    "    y = linear(x)\n",
    "    loss = loss_func(y,y_)\n",
    "    loss.backward()\n",
    "    optimizer.step()\n",
    "    if i % 100 ==0:\n",
    "        print(loss)"
   ]
  },
  {
   "cell_type": "code",
   "execution_count": 6,
   "metadata": {
    "collapsed": false
   },
   "outputs": [
    {
     "name": "stdout",
     "output_type": "stream",
     "text": [
      "Variable containing:\n",
      " 2.1775\n",
      "[torch.FloatTensor of size 1]\n",
      "\n",
      "Variable containing:\n",
      " 1.7922\n",
      "[torch.FloatTensor of size 1]\n",
      "\n",
      "Variable containing:\n",
      " 1.4052\n",
      "[torch.FloatTensor of size 1]\n",
      "\n",
      "Variable containing:\n",
      " 1.0847\n",
      "[torch.FloatTensor of size 1]\n",
      "\n",
      "Variable containing:\n",
      " 0.8324\n",
      "[torch.FloatTensor of size 1]\n",
      "\n",
      "Variable containing:\n",
      " 0.6425\n",
      "[torch.FloatTensor of size 1]\n",
      "\n",
      "Variable containing:\n",
      " 0.5062\n",
      "[torch.FloatTensor of size 1]\n",
      "\n",
      "Variable containing:\n",
      " 0.4133\n",
      "[torch.FloatTensor of size 1]\n",
      "\n",
      "Variable containing:\n",
      " 0.3536\n",
      "[torch.FloatTensor of size 1]\n",
      "\n",
      "Variable containing:\n",
      " 0.3181\n",
      "[torch.FloatTensor of size 1]\n",
      "\n"
     ]
    }
   ],
   "source": [
    "# Clean version code\n",
    "\n",
    "import torch\n",
    "import torch.nn as nn\n",
    "import torch.optim as optim\n",
    "from torch.autograd import Variable \n",
    "\n",
    "x  = Variable(torch.randn(5,3))\n",
    "y_ = Variable(torch.ones(5,2))\n",
    "\n",
    "linear = nn.Linear(3,2)\n",
    "loss_func = nn.MSELoss()\n",
    "loss = loss_func(y,y_)\n",
    "optimizer = optim.Adam(linear.parameters(),lr=0.0005)\n",
    "\n",
    "for i in range(1000):\n",
    "    y = linear(x)\n",
    "    loss = loss_func(y,y_)\n",
    "    loss.backward()\n",
    "    optimizer.step()\n",
    "    if i % 100 ==0:\n",
    "        print(loss)"
   ]
  }
 ],
 "metadata": {
  "kernelspec": {
   "display_name": "Python 3",
   "language": "python",
   "name": "python3"
  },
  "language_info": {
   "codemirror_mode": {
    "name": "ipython",
    "version": 3
   },
   "file_extension": ".py",
   "mimetype": "text/x-python",
   "name": "python",
   "nbconvert_exporter": "python",
   "pygments_lexer": "ipython3",
   "version": "3.5.2"
  }
 },
 "nbformat": 4,
 "nbformat_minor": 1
}
