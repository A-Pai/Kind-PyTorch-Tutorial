{
 "cells": [
  {
   "cell_type": "code",
   "execution_count": 1,
   "metadata": {
    "collapsed": true
   },
   "outputs": [],
   "source": [
    "# Pytorch basic tensor functions\n",
    "# code by GunhoChoi\n",
    "\n",
    "import torch"
   ]
  },
  {
   "cell_type": "code",
   "execution_count": 2,
   "metadata": {
    "collapsed": false
   },
   "outputs": [
    {
     "name": "stdout",
     "output_type": "stream",
     "text": [
      "\n",
      "-2.7592e+34  4.5769e-41  7.9450e-38\n",
      " 0.0000e+00 -2.9196e+29  4.5769e-41\n",
      "-2.9196e+29  4.5769e-41 -2.9195e+29\n",
      " 4.5769e-41 -2.9195e+29  4.5769e-41\n",
      "-2.9195e+29  4.5769e-41 -2.9195e+29\n",
      "[torch.FloatTensor of size 5x3]\n",
      "\n",
      "\n",
      " 0.9166  0.9801  0.7351\n",
      " 0.2094  0.8321  0.4960\n",
      " 0.6325  0.8917  0.0973\n",
      " 0.0050  0.9307  0.4918\n",
      " 0.9167  0.2702  0.6837\n",
      "[torch.FloatTensor of size 5x3]\n",
      "\n",
      "\n",
      "-1.0908 -0.3579  0.6576\n",
      "-0.4549 -1.1716 -1.1356\n",
      " 0.7098  1.6564  0.8471\n",
      "-1.6570  1.1160  0.5023\n",
      " 1.0367  0.4295  0.4981\n",
      "[torch.FloatTensor of size 5x3]\n",
      "\n"
     ]
    }
   ],
   "source": [
    "# uninitialized tensor\n",
    "\n",
    "x1 = torch.Tensor(5,3)\n",
    "print(x1)\n",
    "\n",
    "# uniform distribution [0,1)\n",
    "\n",
    "x2 = torch.rand(5,3)\n",
    "print(x2)\n",
    "\n",
    "# random normal distribution\n",
    "\n",
    "x3 = torch.randn(5,3)\n",
    "print(x3)"
   ]
  },
  {
   "cell_type": "code",
   "execution_count": 3,
   "metadata": {
    "collapsed": false
   },
   "outputs": [
    {
     "name": "stdout",
     "output_type": "stream",
     "text": [
      "\n",
      "-2.7592e+34  4.5769e-41  7.9450e-38\n",
      " 0.0000e+00 -2.9196e+29  4.5769e-41\n",
      "-2.9196e+29  4.5769e-41 -2.9195e+29\n",
      " 4.5769e-41 -2.9195e+29  4.5769e-41\n",
      "-2.9195e+29  4.5769e-41 -2.9195e+29\n",
      " 9.1660e-01  9.8010e-01  7.3507e-01\n",
      " 2.0940e-01  8.3206e-01  4.9602e-01\n",
      " 6.3246e-01  8.9166e-01  9.7307e-02\n",
      " 5.0242e-03  9.3067e-01  4.9182e-01\n",
      " 9.1666e-01  2.7015e-01  6.8368e-01\n",
      "[torch.FloatTensor of size 10x3]\n",
      " \n",
      "-2.7592e+34  4.5769e-41  7.9450e-38  9.1660e-01  9.8010e-01  7.3507e-01\n",
      " 0.0000e+00 -2.9196e+29  4.5769e-41  2.0940e-01  8.3206e-01  4.9602e-01\n",
      "-2.9196e+29  4.5769e-41 -2.9195e+29  6.3246e-01  8.9166e-01  9.7307e-02\n",
      " 4.5769e-41 -2.9195e+29  4.5769e-41  5.0242e-03  9.3067e-01  4.9182e-01\n",
      "-2.9195e+29  4.5769e-41 -2.9195e+29  9.1666e-01  2.7015e-01  6.8368e-01\n",
      "[torch.FloatTensor of size 5x6]\n",
      "\n",
      "(\n",
      "-2.7592e+34  4.5769e-41  7.9450e-38\n",
      " 0.0000e+00 -2.9196e+29  4.5769e-41\n",
      "-2.9196e+29  4.5769e-41 -2.9195e+29\n",
      " 4.5769e-41 -2.9195e+29  4.5769e-41\n",
      "-2.9195e+29  4.5769e-41 -2.9195e+29\n",
      "[torch.FloatTensor of size 5x3]\n",
      ", \n",
      " 0.9166  0.9801  0.7351\n",
      " 0.2094  0.8321  0.4960\n",
      " 0.6325  0.8917  0.0973\n",
      " 0.0050  0.9307  0.4918\n",
      " 0.9167  0.2702  0.6837\n",
      "[torch.FloatTensor of size 5x3]\n",
      ")\n",
      "(\n",
      "-2.7592e+34  4.5769e-41  7.9450e-38\n",
      " 0.0000e+00 -2.9196e+29  4.5769e-41\n",
      "-2.9196e+29  4.5769e-41 -2.9195e+29\n",
      " 4.5769e-41 -2.9195e+29  4.5769e-41\n",
      "-2.9195e+29  4.5769e-41 -2.9195e+29\n",
      "[torch.FloatTensor of size 5x3]\n",
      ", \n",
      " 0.9166  0.9801  0.7351\n",
      " 0.2094  0.8321  0.4960\n",
      " 0.6325  0.8917  0.0973\n",
      " 0.0050  0.9307  0.4918\n",
      " 0.9167  0.2702  0.6837\n",
      "[torch.FloatTensor of size 5x3]\n",
      ")\n"
     ]
    }
   ],
   "source": [
    "# concatenate tensors\n",
    "\n",
    "x4 = torch.cat([x1,x2],0)\n",
    "x5 = torch.cat([x1,x2],1)\n",
    "print(x4,x5)\n",
    "\n",
    "# split tensors with size and dimension\n",
    "\n",
    "print(torch.split(x4,split_size=5,dim=0))\n",
    "print(torch.split(x5,split_size=3,dim=1))"
   ]
  },
  {
   "cell_type": "code",
   "execution_count": 4,
   "metadata": {
    "collapsed": false
   },
   "outputs": [
    {
     "name": "stdout",
     "output_type": "stream",
     "text": [
      "\n",
      "-1.0908 -0.4549  0.7098 -1.6570  1.0367\n",
      "-0.3579 -1.1716  1.6564  1.1160  0.4295\n",
      " 0.6576 -1.1356  0.8471  0.5023  0.4981\n",
      "[torch.FloatTensor of size 3x5]\n",
      "\n",
      "torch.Size([5, 3])\n",
      "torch.Size([3, 5])\n",
      "\n",
      "-0.8672 -2.4000  2.8967 -0.0558  1.7373\n",
      "-0.2000 -1.6334  1.9470  0.8308  0.8215\n",
      "-0.9450 -1.4429  2.0083 -0.0040  1.0871\n",
      "-0.0151 -1.6511  1.9617  1.2774  0.6499\n",
      "-0.6470 -1.5099  1.6773 -0.8740  1.4069\n",
      "[torch.FloatTensor of size 5x5]\n",
      "\n"
     ]
    }
   ],
   "source": [
    "# transpose tensor\n",
    "\n",
    "x3_trans=torch.t(x3)\n",
    "print(x3_trans)\n",
    "\n",
    "# tensor multiplication(not dot product!)\n",
    "\n",
    "print(x2.size())\n",
    "print(x3_trans.size())\n",
    "x3 = torch.mm(x2,x3_trans)\n",
    "print(x3)"
   ]
  },
  {
   "cell_type": "code",
   "execution_count": 5,
   "metadata": {
    "collapsed": false
   },
   "outputs": [
    {
     "name": "stdout",
     "output_type": "stream",
     "text": [
      "1.567070186138153\n",
      "\n",
      "-2.7592e+34 -5.8391e+29 -5.8391e+29\n",
      "[torch.FloatTensor of size 1x3]\n",
      "\n",
      "\n",
      "-2.7592e+34\n",
      "-2.9196e+29\n",
      "-5.8391e+29\n",
      "-2.9195e+29\n",
      "-5.8390e+29\n",
      "[torch.FloatTensor of size 5x1]\n",
      "\n"
     ]
    }
   ],
   "source": [
    "# dot products\n",
    "# torch.dot(tensor1, tensor2) \n",
    "# Computes the dot product (inner product) of two tensors. \n",
    "# Both tensors are treated as 1-D vectors.\n",
    "\n",
    "x3 = torch.dot(x2,x3_trans)\n",
    "print(x3)\n",
    "\n",
    "# sum \n",
    "\n",
    "x3 = torch.sum(x1,dim=0) \n",
    "print(x3)\n",
    "\n",
    "x3 = torch.sum(x1,dim=1)\n",
    "print(x3)"
   ]
  }
 ],
 "metadata": {
  "kernelspec": {
   "display_name": "Python 3",
   "language": "python",
   "name": "python3"
  },
  "language_info": {
   "codemirror_mode": {
    "name": "ipython",
    "version": 3
   },
   "file_extension": ".py",
   "mimetype": "text/x-python",
   "name": "python",
   "nbconvert_exporter": "python",
   "pygments_lexer": "ipython3",
   "version": "3.5.2"
  }
 },
 "nbformat": 4,
 "nbformat_minor": 1
}
