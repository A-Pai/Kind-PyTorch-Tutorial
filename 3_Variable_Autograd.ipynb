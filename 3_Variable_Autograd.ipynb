{
 "cells": [
  {
   "cell_type": "code",
   "execution_count": 1,
   "metadata": {
    "collapsed": false
   },
   "outputs": [],
   "source": [
    "# Numpy array to tensor, GPU check, Automatic Differntiation\n",
    "# code by GunhoChoi\n",
    "import torch\n",
    "import numpy as np\n",
    "from torch.autograd import Variable"
   ]
  },
  {
   "cell_type": "code",
   "execution_count": 16,
   "metadata": {
    "collapsed": false
   },
   "outputs": [
    {
     "name": "stdout",
     "output_type": "stream",
     "text": [
      "\n",
      " 1  2  3\n",
      " 4  5  6\n",
      "[torch.FloatTensor of size 2x3]\n",
      "\n"
     ]
    }
   ],
   "source": [
    "# convert numpy array to torch tensor\n",
    "# default is long tensor\n",
    "\n",
    "x1 = np.array([[1,2,3],[4,5,6]])\n",
    "x2 = torch.from_numpy(x1).float()\n",
    "print(x2)"
   ]
  },
  {
   "cell_type": "code",
   "execution_count": 15,
   "metadata": {
    "collapsed": false
   },
   "outputs": [
    {
     "name": "stdout",
     "output_type": "stream",
     "text": [
      "True\n",
      "\n",
      " 1  2  3\n",
      " 4  5  6\n",
      "[torch.cuda.FloatTensor of size 2x3 (GPU 0)]\n",
      "\n"
     ]
    }
   ],
   "source": [
    "# check whether cuda tensor is available\n",
    "\n",
    "print(torch.cuda.is_available())\n",
    "\n",
    "# torch tensor to GPU with .cuda()\n",
    "\n",
    "x2 = x2.cuda()\n",
    "print(x2)"
   ]
  },
  {
   "cell_type": "code",
   "execution_count": 4,
   "metadata": {
    "collapsed": false
   },
   "outputs": [
    {
     "name": "stdout",
     "output_type": "stream",
     "text": [
      "\n",
      " 1  1\n",
      " 1  1\n",
      "[torch.FloatTensor of size 2x2]\n",
      "\n",
      "None\n",
      "True\n",
      "False\n",
      "None\n"
     ]
    }
   ],
   "source": [
    "# Variable wraps a tensor and record operations\n",
    "# like data, gradient, requires_gradient, volatile, creator\n",
    "\n",
    "x = Variable(torch.ones(2,2),requires_grad=True)\n",
    "\n",
    "print(x.data)\n",
    "\n",
    "print(x.grad)\n",
    "print(x.requires_grad)\n",
    "print(x.volatile)\n",
    "print(x.creator)"
   ]
  },
  {
   "cell_type": "code",
   "execution_count": 5,
   "metadata": {
    "collapsed": false
   },
   "outputs": [
    {
     "name": "stdout",
     "output_type": "stream",
     "text": [
      "\n",
      " 3  3\n",
      " 3  3\n",
      "[torch.FloatTensor of size 2x2]\n",
      "\n",
      "None\n",
      "True\n",
      "False\n",
      "<torch.autograd._functions.basic_ops.AddConstant object at 0x7f4cec23b1c8>\n"
     ]
    }
   ],
   "source": [
    "y = x+2\n",
    "\n",
    "print(y.data)\n",
    "\n",
    "print(y.grad)\n",
    "print(y.requires_grad)\n",
    "print(y.volatile)\n",
    "print(y.creator)"
   ]
  },
  {
   "cell_type": "code",
   "execution_count": 6,
   "metadata": {
    "collapsed": false
   },
   "outputs": [],
   "source": [
    "# .backward() should be called only on a scalar or with gradient\n",
    "\n",
    "z = y * y * 3\n",
    "#z.backward()\n",
    "output = z.mean()\n",
    "output.backward()"
   ]
  },
  {
   "cell_type": "code",
   "execution_count": 7,
   "metadata": {
    "collapsed": false
   },
   "outputs": [
    {
     "name": "stdout",
     "output_type": "stream",
     "text": [
      "Variable containing:\n",
      " 4.5000  4.5000\n",
      " 4.5000  4.5000\n",
      "[torch.FloatTensor of size 2x2]\n",
      "\n",
      "None\n",
      "None\n"
     ]
    }
   ],
   "source": [
    "# Variable.grad returns gradient w.r.t. the output variable\n",
    "# y,z are consist of x so there's no gradient\n",
    "\n",
    "print(x.grad)\n",
    "print(y.grad)\n",
    "print(z.grad)"
   ]
  },
  {
   "cell_type": "code",
   "execution_count": 12,
   "metadata": {
    "collapsed": false
   },
   "outputs": [
    {
     "name": "stdout",
     "output_type": "stream",
     "text": [
      "Variable containing:\n",
      "-1097.8324\n",
      "  369.3616\n",
      " -331.2075\n",
      "[torch.FloatTensor of size 3]\n",
      "\n",
      "Variable containing:\n",
      "  51.2000\n",
      " 512.0000\n",
      "   0.0512\n",
      "[torch.FloatTensor of size 3]\n",
      "\n"
     ]
    }
   ],
   "source": [
    "# Example of .backward() with gradient\n",
    "# if it was just y.backward(), it would not have worked\n",
    "\n",
    "x = torch.randn(3)\n",
    "x = Variable(x, requires_grad = True)\n",
    "\n",
    "y = x * 2\n",
    "while y.data.norm() < 1000:\n",
    "    y = y * 2\n",
    "\n",
    "print(y)\n",
    "\n",
    "gradients = torch.FloatTensor([0.1, 1.0, 0.0001])\n",
    "y.backward(gradients)\n",
    "\n",
    "print(x.grad)"
   ]
  },
  {
   "cell_type": "code",
   "execution_count": 29,
   "metadata": {
    "collapsed": false
   },
   "outputs": [
    {
     "name": "stdout",
     "output_type": "stream",
     "text": [
      "Variable containing:\n",
      "  -21.5413\n",
      " 1013.8588\n",
      " -293.1613\n",
      "[torch.FloatTensor of size 3]\n",
      "\n",
      "Variable containing:\n",
      " 512\n",
      " 512\n",
      " 512\n",
      "[torch.FloatTensor of size 3]\n",
      "\n"
     ]
    }
   ],
   "source": [
    "# Example of .backward() with scalar\n",
    "\n",
    "x = torch.randn(3)\n",
    "x = Variable(x, requires_grad = True)\n",
    "\n",
    "y = x * 2\n",
    "while y.data.norm() < 1000:\n",
    "    y = y * 2\n",
    "\n",
    "print(y)\n",
    "\n",
    "z = torch.sum(y)\n",
    "z.backward()\n",
    "\n",
    "print(x.grad)"
   ]
  }
 ],
 "metadata": {
  "kernelspec": {
   "display_name": "Python 3",
   "language": "python",
   "name": "python3"
  },
  "language_info": {
   "codemirror_mode": {
    "name": "ipython",
    "version": 3
   },
   "file_extension": ".py",
   "mimetype": "text/x-python",
   "name": "python",
   "nbconvert_exporter": "python",
   "pygments_lexer": "ipython3",
   "version": "3.5.2"
  }
 },
 "nbformat": 4,
 "nbformat_minor": 1
}
